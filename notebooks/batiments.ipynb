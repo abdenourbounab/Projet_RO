{
 "cells": [
  {
   "cell_type": "markdown",
   "id": "b4dcf86b",
   "metadata": {},
   "source": [
    "# **Générer les fichiers Excel**"
   ]
  },
  {
   "cell_type": "markdown",
   "id": "6cd1d7b7",
   "metadata": {},
   "source": [
    "### Générer le fichier des batiments a réparer et ceux qui sont intact "
   ]
  },
  {
   "cell_type": "code",
   "execution_count": null,
   "id": "96a42a86",
   "metadata": {},
   "outputs": [],
   "source": [
    "import pandas as pd\n",
    "\n",
    "df = pd.read_excel('../csv_files/reseau_en_arbre.xlsx')\n",
    "\n",
    "# Identifier les bâtiments à remplacer\n",
    "batiments_a_remplacer = df[df['infra_type'] == 'a_remplacer']['id_batiment'].unique()\n",
    "\n",
    "# Créer une liste de tous les bâtiments\n",
    "tous_batiments = df['id_batiment'].unique()\n",
    "\n",
    "# Générer le DataFrame final\n",
    "result = pd.DataFrame({\n",
    "    'id_batiment': tous_batiments,\n",
    "    'etat_batiment': ['a_reparer' if bat in batiments_a_remplacer else 'intact' for bat in tous_batiments]\n",
    "})\n",
    "\n",
    "result.to_csv('../csv_files/batiments_etat.csv', index=False)"
   ]
  },
  {
   "cell_type": "code",
   "execution_count": null,
   "id": "d541d732",
   "metadata": {},
   "outputs": [],
   "source": []
  }
 ],
 "metadata": {
  "kernelspec": {
   "display_name": ".venv",
   "language": "python",
   "name": "python3"
  },
  "language_info": {
   "codemirror_mode": {
    "name": "ipython",
    "version": 3
   },
   "file_extension": ".py",
   "mimetype": "text/x-python",
   "name": "python",
   "nbconvert_exporter": "python",
   "pygments_lexer": "ipython3",
   "version": "3.11.9"
  }
 },
 "nbformat": 4,
 "nbformat_minor": 5
}
